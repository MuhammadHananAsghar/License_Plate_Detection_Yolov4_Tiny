{
  "nbformat": 4,
  "nbformat_minor": 0,
  "metadata": {
    "colab": {
      "name": "License_Plate_Detection_YOLOV4_Detections.ipynb",
      "provenance": [],
      "collapsed_sections": []
    },
    "kernelspec": {
      "display_name": "Python 3",
      "name": "python3"
    },
    "language_info": {
      "name": "python"
    }
  },
  "cells": [
    {
      "cell_type": "code",
      "metadata": {
        "colab": {
          "base_uri": "https://localhost:8080/"
        },
        "id": "Z7s7ZI23SGnl",
        "outputId": "2049c1c8-744e-4b9d-db03-2bec6c556b5b"
      },
      "source": [
        "from google.colab import drive\n",
        "drive.mount('/content/drive')"
      ],
      "execution_count": null,
      "outputs": [
        {
          "output_type": "stream",
          "text": [
            "Mounted at /content/drive\n"
          ],
          "name": "stdout"
        }
      ]
    },
    {
      "cell_type": "code",
      "metadata": {
        "id": "o_Ti_RfMSk9z"
      },
      "source": [
        "!unzip \"/content/drive/MyDrive/yolov4-tiny/dataset.zip\""
      ],
      "execution_count": null,
      "outputs": []
    },
    {
      "cell_type": "code",
      "metadata": {
        "id": "npvh46t2Surw"
      },
      "source": [
        "with open('/content/predict.txt') as f:\n",
        "  TEST_IMAGES = f.read().splitlines()"
      ],
      "execution_count": null,
      "outputs": []
    },
    {
      "cell_type": "code",
      "metadata": {
        "colab": {
          "base_uri": "https://localhost:8080/"
        },
        "id": "ugc479tpSypg",
        "outputId": "146d0900-9136-4f26-d319-621944060a7f"
      },
      "source": [
        "!pip install opencv-python --upgrade\n",
        "\n",
        "import cv2\n",
        "print(cv2.__version__)"
      ],
      "execution_count": null,
      "outputs": [
        {
          "output_type": "stream",
          "text": [
            "Collecting opencv-python\n",
            "\u001b[?25l  Downloading https://files.pythonhosted.org/packages/72/b3/3878691fec6babd78bbf4c71c720e1831cbb6ada61679613fe2fae080568/opencv_python-4.5.2.54-cp37-cp37m-manylinux2014_x86_64.whl (51.0MB)\n",
            "\u001b[K     |████████████████████████████████| 51.0MB 61kB/s \n",
            "\u001b[?25hRequirement already satisfied, skipping upgrade: numpy>=1.14.5 in /usr/local/lib/python3.7/dist-packages (from opencv-python) (1.19.5)\n",
            "\u001b[31mERROR: albumentations 0.1.12 has requirement imgaug<0.2.7,>=0.2.5, but you'll have imgaug 0.2.9 which is incompatible.\u001b[0m\n",
            "Installing collected packages: opencv-python\n",
            "  Found existing installation: opencv-python 4.1.2.30\n",
            "    Uninstalling opencv-python-4.1.2.30:\n",
            "      Successfully uninstalled opencv-python-4.1.2.30\n",
            "Successfully installed opencv-python-4.5.2.54\n",
            "4.5.2\n"
          ],
          "name": "stdout"
        }
      ]
    },
    {
      "cell_type": "code",
      "metadata": {
        "id": "tQ6Ptz2XS0CS"
      },
      "source": [
        "import cv2\n",
        "import numpy as np\n",
        "from google.colab.patches import cv2_imshow\n",
        "\n",
        "# Load the Model\n",
        "net = cv2.dnn.readNet('/content/drive/MyDrive/yolov4-tiny/yolov4-tiny-training_final.weights','/content/yolov4-tiny-testing.cfg')\n",
        "\n",
        "model = cv2.dnn_DetectionModel(net)\n",
        "model.setInputParams(size=(416, 416), scale=1/255, swapRB=True)\n",
        "\n",
        "# Loading the Classes\n",
        "classes = []\n",
        "with open('/content/classes.names', 'r') as f:\n",
        "    classes = f.read().splitlines()"
      ],
      "execution_count": null,
      "outputs": []
    },
    {
      "cell_type": "code",
      "metadata": {
        "colab": {
          "base_uri": "https://localhost:8080/"
        },
        "id": "2tW7b8BMTyGF",
        "outputId": "b502349f-961d-4d6e-c060-d28b5888f048"
      },
      "source": [
        "classes"
      ],
      "execution_count": null,
      "outputs": [
        {
          "output_type": "execute_result",
          "data": {
            "text/plain": [
              "['licence']"
            ]
          },
          "metadata": {
            "tags": []
          },
          "execution_count": 5
        }
      ]
    },
    {
      "cell_type": "code",
      "metadata": {
        "id": "MfNWYq3HUgsk"
      },
      "source": [
        "import random\n",
        "from google.colab.patches import cv2_imshow"
      ],
      "execution_count": null,
      "outputs": []
    },
    {
      "cell_type": "code",
      "metadata": {
        "id": "BL-G0Aa1TEcn"
      },
      "source": [
        "def detect(image):\n",
        "  img = cv2.imread(image)\n",
        "  __classes, scores, boxes = model.detect(img, 0.2, 0.4)\n",
        "  colors = np.random.uniform(0, 255, size=(len(boxes), 3))\n",
        "  for (classid, score, box) in zip(__classes, scores, boxes):\n",
        "          color = random.choice(colors)\n",
        "          label = \"{}: {}\".format(classes[classid[0]], round(score[0], 3))\n",
        "          cv2.rectangle(img, box, color, 1)\n",
        "          cv2.rectangle(img, (box[0], box[1]), (box[0]+box[2], box[1]-40), color, -1)\n",
        "          cv2.putText(img, label, (box[0]+3, box[1]-15),\n",
        "                    cv2.FONT_HERSHEY_COMPLEX, 0.7, (255, 255, 255), 1)\n",
        "  cv2_imshow(img)"
      ],
      "execution_count": 24,
      "outputs": []
    },
    {
      "cell_type": "code",
      "metadata": {
        "id": "fwkhdZTMT4U5"
      },
      "source": [
        "detect(\"4.jpg\")"
      ],
      "execution_count": null,
      "outputs": []
    }
  ]
}